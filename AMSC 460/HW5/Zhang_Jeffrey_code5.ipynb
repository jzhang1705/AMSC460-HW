{
 "cells": [
  {
   "cell_type": "markdown",
   "metadata": {},
   "source": [
    "# AMSC 460 HW 5 Part 2"
   ]
  },
  {
   "cell_type": "markdown",
   "metadata": {},
   "source": [
    "Given a function $f$ with a singularity at a point $x_{0}$, we may obtain a composite quadrature rule that uses more points near the singularity by performing an adequate change of variables."
   ]
  },
  {
   "cell_type": "markdown",
   "metadata": {},
   "source": [
    "(a) Let $f(x)=\\cos (x) / \\sqrt[3]{x}$. We want to estimate\n",
    "$$\n",
    "I=\\int_{0}^{1} f(x) d x \\approx 1.3212\n",
    "$$\n",
    "Since $f$ blows up at $x=0$, the composite trapezoid rule to estimate $I$ gives infinity as a result. However, it also holds that\n",
    "$$\n",
    "\\int_{0}^{10^{-8}} f(x) d x \\approx 7 \\cdot 10^{-6} .\n",
    "$$\n",
    "So, potentially, we could apply a quadrature rule on the interval $\\left[10^{-8}, 1\\right]$ to obtain an approximation of $I$ correct up to 5 digits. Estimate $I$ using $\\mathrm{n}=$ $\\left\\{10^{3}, 10^{4}, 10^{5}, 10^{6}\\right\\}$. How accurate are your results?"
   ]
  },
  {
   "cell_type": "markdown",
   "metadata": {},
   "source": [
    "Let $f \\in C^{2}[a, b], h=(b-a) / n$, and $x_{j}=a+j h$, for each $j=0,1, \\ldots, n$. There exists a $\\mu \\in(a, b)$ for which the Composite Trapezoidal rule for $n$ subintervals can be written with its error term as\n",
    "$$\n",
    "\\int_{a}^{b} f(x) d x=\\frac{h}{2}\\left[f(a)+2 \\sum_{j=1}^{n-1} f\\left(x_{j}\\right)+f(b)\\right]-\\frac{b-a}{12} h^{2} f^{\\prime \\prime}(\\mu)\n",
    "$$\n",
    "or \n",
    "$$\n",
    "\\left|\\int_{a}^{b} f(x) d x-h\\left(\\frac{f(a)}{2}+\\sum_{j=1}^{n-1} f\\left(x_{j}\\right)+\\frac{f(b)}{2}\\right)\\right| \\leq \\max _{x \\in[a, b]}\\left|f^{\\prime \\prime}(x)\\right| \\frac{(b-a)^{3}}{12} \\frac{1}{n^{2}}\n",
    "$$"
   ]
  },
  {
   "cell_type": "markdown",
   "metadata": {},
   "source": [
    "In the case of this problem, $a = 10^{-8}$, $b = 1$, and $x_j = 10^{-8} + j\\frac{1 - 10^{-8}}{n}$.\n",
    "\n",
    "To find the max error, we find the max of the 2nd derivative:\n",
    "$$\n",
    "\\begin{aligned}\n",
    "&f^{\\prime}(x) = -\\dfrac{3x\\sin\\left(x\\right)+\\cos\\left(x\\right)}{3x^\\frac{4}{3}}\\\\\n",
    "&f^{\\prime\\prime}(x) = \\dfrac{6x\\sin\\left(x\\right)+\\left(4-9x^2\\right)\\cos\\left(x\\right)}{9x^\\frac{7}{3}}\n",
    "\\end{aligned} \n",
    "$$\n",
    "Graphing the 2nd derivative shows that the maximum value occurs at $10^{-8}$ in the $[10^{-8},1]$"
   ]
  },
  {
   "cell_type": "markdown",
   "metadata": {},
   "source": [
    "From the answers given to us above, we can approximate an answer for:\n",
    "$$I=\\int_{10^{-8}}^{1} f(x) d x \\approx 1.3212 - 7 \\cdot 10^{-6} = 1.321193$$"
   ]
  },
  {
   "cell_type": "code",
   "execution_count": 3,
   "metadata": {},
   "outputs": [],
   "source": [
    "import math\n",
    "import numpy as np\n",
    "from sympy import *\n",
    "from scipy.integrate import quad\n",
    "import scipy.special as special\n",
    "from sympy.plotting import plot\n",
    "\n",
    "def f(x):\n",
    "    return math.cos(x)/math.pow(x,1/3)\n",
    "\n",
    "def f2(x):\n",
    "    return (6*x*math.sin(x) + (4-9*x**2)*math.cos(x))/(9*math.pow(x,7/3))\n",
    "\n",
    "def Composite_Trapezoidal_Rule(n,a,b):\n",
    "    h = (b-a)/n\n",
    "    summation = 0\n",
    "    for j in range(1,n):\n",
    "        summation += f(a + j*h)\n",
    "    return (h/2)*(f(a) + 2*summation + f(b))"
   ]
  },
  {
   "cell_type": "code",
   "execution_count": 65,
   "metadata": {},
   "outputs": [
    {
     "data": {
      "text/plain": [
       "1.5435687059970864"
      ]
     },
     "execution_count": 65,
     "metadata": {},
     "output_type": "execute_result"
    }
   ],
   "source": [
    "Composite_Trapezoidal_Rule(10**3,10**-8,1)"
   ]
  },
  {
   "cell_type": "code",
   "execution_count": 67,
   "metadata": {},
   "outputs": [
    {
     "data": {
      "text/plain": [
       "0.22237570599708634"
      ]
     },
     "execution_count": 67,
     "metadata": {},
     "output_type": "execute_result"
    }
   ],
   "source": [
    "1.5435687059970864 - 1.321193"
   ]
  },
  {
   "cell_type": "code",
   "execution_count": 68,
   "metadata": {},
   "outputs": [
    {
     "data": {
      "text/plain": [
       "1.342333717567031"
      ]
     },
     "execution_count": 68,
     "metadata": {},
     "output_type": "execute_result"
    }
   ],
   "source": [
    "Composite_Trapezoidal_Rule(10**4,10**-8,1)"
   ]
  },
  {
   "cell_type": "code",
   "execution_count": 69,
   "metadata": {},
   "outputs": [
    {
     "data": {
      "text/plain": [
       "0.021140717567030842"
      ]
     },
     "execution_count": 69,
     "metadata": {},
     "output_type": "execute_result"
    }
   ],
   "source": [
    "1.342333717567031 - 1.321193"
   ]
  },
  {
   "cell_type": "code",
   "execution_count": 70,
   "metadata": {},
   "outputs": [
    {
     "data": {
      "text/plain": [
       "1.3230915177381277"
      ]
     },
     "execution_count": 70,
     "metadata": {},
     "output_type": "execute_result"
    }
   ],
   "source": [
    "Composite_Trapezoidal_Rule(10**5,10**-8,1)"
   ]
  },
  {
   "cell_type": "code",
   "execution_count": 71,
   "metadata": {},
   "outputs": [
    {
     "data": {
      "text/plain": [
       "0.0018985177381276586"
      ]
     },
     "execution_count": 71,
     "metadata": {},
     "output_type": "execute_result"
    }
   ],
   "source": [
    "1.3230915177381277 - 1.321193"
   ]
  },
  {
   "cell_type": "code",
   "execution_count": 72,
   "metadata": {},
   "outputs": [
    {
     "data": {
      "text/plain": [
       "1.3213566203735232"
      ]
     },
     "execution_count": 72,
     "metadata": {},
     "output_type": "execute_result"
    }
   ],
   "source": [
    "Composite_Trapezoidal_Rule(10**6,10**-8,1)"
   ]
  },
  {
   "cell_type": "code",
   "execution_count": 73,
   "metadata": {},
   "outputs": [
    {
     "data": {
      "text/plain": [
       "0.0001636203735231323"
      ]
     },
     "execution_count": 73,
     "metadata": {},
     "output_type": "execute_result"
    }
   ],
   "source": [
    "1.3213566203735232 - 1.321193"
   ]
  },
  {
   "cell_type": "markdown",
   "metadata": {},
   "source": [
    "We can see that with the given ns, as n increases, the error decreases using the composite trapezoid rule."
   ]
  },
  {
   "cell_type": "markdown",
   "metadata": {},
   "source": [
    "(b) Make the substitution $t=x^{2 / 3}$ in (1) to express $I$ as the integral of another function, which we shall call $g(t)$. (Note that $g$ is smooth, because the singularity of $f$ at $x_{0}=0$ is compensated by the differential of the change of variables.) Estimate $I$ with the same values of $\\mathrm{n}$ as before and compare your results."
   ]
  },
  {
   "cell_type": "markdown",
   "metadata": {},
   "source": [
    "$$I=\\int_{0}^{1} f(x)dt = \\int_{0}^{1} \\frac{3}{2}\\cos(t^{3/2})dt$$"
   ]
  },
  {
   "cell_type": "code",
   "execution_count": 4,
   "metadata": {},
   "outputs": [],
   "source": [
    "def g(t):\n",
    "    return (3/2)*math.cos(t**(3/2))\n",
    "\n",
    "def Composite_Trapezoidal_Rule_t(n,a,b):\n",
    "    h = (b-a)/n\n",
    "    summation = 0\n",
    "    for j in range(1,n):\n",
    "        summation += g(a + j*h)\n",
    "    return (h/2)*(g(a) + 2*summation + g(b))"
   ]
  },
  {
   "cell_type": "code",
   "execution_count": 5,
   "metadata": {},
   "outputs": [
    {
     "data": {
      "text/plain": [
       "1.3212229013700847"
      ]
     },
     "execution_count": 5,
     "metadata": {},
     "output_type": "execute_result"
    }
   ],
   "source": [
    "Composite_Trapezoidal_Rule_t(10**3,10**-8,1)"
   ]
  },
  {
   "cell_type": "code",
   "execution_count": 9,
   "metadata": {},
   "outputs": [
    {
     "data": {
      "text/plain": [
       "2.9901370084628454e-05"
      ]
     },
     "execution_count": 9,
     "metadata": {},
     "output_type": "execute_result"
    }
   ],
   "source": [
    "1.3212229013700847 - 1.321193"
   ]
  },
  {
   "cell_type": "code",
   "execution_count": 6,
   "metadata": {},
   "outputs": [
    {
     "data": {
      "text/plain": [
       "1.321223057568142"
      ]
     },
     "execution_count": 6,
     "metadata": {},
     "output_type": "execute_result"
    }
   ],
   "source": [
    "Composite_Trapezoidal_Rule_t(10**4,10**-8,1)"
   ]
  },
  {
   "cell_type": "code",
   "execution_count": 10,
   "metadata": {},
   "outputs": [
    {
     "data": {
      "text/plain": [
       "3.0057568142005664e-05"
      ]
     },
     "execution_count": 10,
     "metadata": {},
     "output_type": "execute_result"
    }
   ],
   "source": [
    "1.321223057568142 - 1.321193"
   ]
  },
  {
   "cell_type": "code",
   "execution_count": 7,
   "metadata": {},
   "outputs": [
    {
     "data": {
      "text/plain": [
       "1.3212230591301257"
      ]
     },
     "execution_count": 7,
     "metadata": {},
     "output_type": "execute_result"
    }
   ],
   "source": [
    "Composite_Trapezoidal_Rule_t(10**5,10**-8,1)"
   ]
  },
  {
   "cell_type": "code",
   "execution_count": 11,
   "metadata": {},
   "outputs": [
    {
     "data": {
      "text/plain": [
       "3.0059130125659195e-05"
      ]
     },
     "execution_count": 11,
     "metadata": {},
     "output_type": "execute_result"
    }
   ],
   "source": [
    "1.3212230591301257 - 1.321193"
   ]
  },
  {
   "cell_type": "code",
   "execution_count": 8,
   "metadata": {},
   "outputs": [
    {
     "data": {
      "text/plain": [
       "1.3212230591457068"
      ]
     },
     "execution_count": 8,
     "metadata": {},
     "output_type": "execute_result"
    }
   ],
   "source": [
    "Composite_Trapezoidal_Rule_t(10**6,10**-8,1)"
   ]
  },
  {
   "cell_type": "code",
   "execution_count": 12,
   "metadata": {},
   "outputs": [
    {
     "data": {
      "text/plain": [
       "3.0059145706751167e-05"
      ]
     },
     "execution_count": 12,
     "metadata": {},
     "output_type": "execute_result"
    }
   ],
   "source": [
    "1.3212230591457068 - 1.321193"
   ]
  },
  {
   "cell_type": "markdown",
   "metadata": {},
   "source": [
    "The substitution made the errors lower."
   ]
  },
  {
   "cell_type": "code",
   "execution_count": 22,
   "metadata": {},
   "outputs": [],
   "source": [
    "import random\n",
    "\n",
    "def partition(L, v):\n",
    "    smaller = []\n",
    "    bigger = []\n",
    "    for val in L:\n",
    "        if val < v: smaller += [val]\n",
    "        if val > v: bigger += [val]\n",
    "    return (smaller, [v], bigger)\n",
    "\n",
    "def top_k(L, k):\n",
    "    v = L[random.randrange(len(L))]\n",
    "    (left, middle, right) = partition(L, v)\n",
    "    # middle used below (in place of [v]) for clarity\n",
    "    if len(left) == k:   return left\n",
    "    if len(left)+1 == k: return left + middle\n",
    "    if len(left) > k:    return top_k(left, k)\n",
    "    return left + middle + top_k(right, k - len(left) - len(middle))\n",
    "\n",
    "def median(L):\n",
    "    n = len(L)\n",
    "    l = top_k(L, n / 2 + 1)\n",
    "    return max(l)"
   ]
  },
  {
   "cell_type": "code",
   "execution_count": 23,
   "metadata": {},
   "outputs": [
    {
     "data": {
      "text/plain": [
       "7"
      ]
     },
     "execution_count": 23,
     "metadata": {},
     "output_type": "execute_result"
    }
   ],
   "source": [
    "median([6,0,5,7,9,10,500,1738,19991,4,2,0])"
   ]
  },
  {
   "cell_type": "code",
   "execution_count": 24,
   "metadata": {},
   "outputs": [
    {
     "name": "stdout",
     "output_type": "stream",
     "text": [
      "[0, 0, 2, 4, 5, 6, 7, 9, 10, 500, 1738, 19991]\n"
     ]
    }
   ],
   "source": [
    "lol = [6,0,5,7,9,10,500,1738,19991,4,2,0]\n",
    "lol.sort()\n",
    "print(lol)"
   ]
  },
  {
   "cell_type": "code",
   "execution_count": 37,
   "metadata": {},
   "outputs": [],
   "source": [
    "from collections import defaultdict\n",
    "\n",
    "def calibrate_mean(joints_arr):\n",
    "    joints_sum = {}\n",
    "    joints_mean = {}\n",
    "    print('Please fix calibrate mean')\n",
    "    # into dictionary\n",
    "    for ele in joints_arr:\n",
    "        for k,v in ele.items():\n",
    "            if(k not in joints_sum):\n",
    "                joints_sum[k] = v\n",
    "            else:\n",
    "                joints_sum[k] += v\n",
    "    \n",
    "    for k,v in joints_sum.items():\n",
    "        joints_mean[k] = v /len(joints_arr)\n",
    "    return joints_mean"
   ]
  },
  {
   "cell_type": "code",
   "execution_count": 38,
   "metadata": {},
   "outputs": [],
   "source": [
    "joints_arr = [{'a':1, 'b': 2, 'c': 3}, {'a': 2, 'b': 3, 'c': 5}, {'a': 10, 'b': 5, 'c': 10}]"
   ]
  },
  {
   "cell_type": "code",
   "execution_count": 39,
   "metadata": {},
   "outputs": [
    {
     "name": "stdout",
     "output_type": "stream",
     "text": [
      "Please fix calibrate mean\n"
     ]
    },
    {
     "data": {
      "text/plain": [
       "{'a': 4.333333333333333, 'b': 3.3333333333333335, 'c': 6.0}"
      ]
     },
     "execution_count": 39,
     "metadata": {},
     "output_type": "execute_result"
    }
   ],
   "source": [
    "calibrate_mean(joints_arr)"
   ]
  },
  {
   "cell_type": "code",
   "execution_count": null,
   "metadata": {},
   "outputs": [],
   "source": []
  }
 ],
 "metadata": {
  "kernelspec": {
   "display_name": "Python 3",
   "language": "python",
   "name": "python3"
  },
  "language_info": {
   "codemirror_mode": {
    "name": "ipython",
    "version": 3
   },
   "file_extension": ".py",
   "mimetype": "text/x-python",
   "name": "python",
   "nbconvert_exporter": "python",
   "pygments_lexer": "ipython3",
   "version": "3.8.3"
  }
 },
 "nbformat": 4,
 "nbformat_minor": 4
}
