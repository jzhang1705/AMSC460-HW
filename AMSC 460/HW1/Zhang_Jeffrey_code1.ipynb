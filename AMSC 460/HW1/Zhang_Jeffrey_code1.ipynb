{
 "cells": [
  {
   "cell_type": "markdown",
   "metadata": {},
   "source": [
    "# AMSC 460 HW 1 Part 2\n",
    "## Jeffrey Zhang\n"
   ]
  },
  {
   "cell_type": "markdown",
   "metadata": {},
   "source": [
    "The goal is to find the root $r = 0$ of $f(x) = x + x^4$ numerically."
   ]
  },
  {
   "cell_type": "markdown",
   "metadata": {},
   "source": [
    "a) Apply Newton’s method and derive an explicit recursion, expressing the error $e_{n+1}$\n",
    "in terms of $e_n$. Predict and report the order of convergence and the asymptotic constant\n",
    "for this problem."
   ]
  },
  {
   "cell_type": "markdown",
   "metadata": {},
   "source": [
    "Using the same approach as with Fixed-point Iteration, we can determine the convergence rate\n",
    "of Newton’s Method applied to the equation $f(x) = 0$, where we assume that f is continuously\n",
    "differentiable near the exact solution r, and that f''(x) exists for an x near r. Using the Taylor' Theorem, we obtain:"
   ]
  },
  {
   "cell_type": "markdown",
   "metadata": {},
   "source": [
    "$e_{n+1} = x_{n+1} - r = x_n - \\dfrac{f(x_n)}{f'(x_n)} - r = x_n - r - \\dfrac{f(x_n)}{f'(x_n)} = e_n - \\dfrac{f(x_n)}{f'(x_n)}$. We can redefine $f(x_n)$ using Taylor's Theorem, Thus $e_{n+1} = e_n - \\dfrac{1}{f'(x_n)}[f(r) - f'(x_n)(r-x_n)-\\dfrac{1}{2}f''(\\xi_n)(x_n-r)^2]$. Since $f(r)$ = 0, we can eliminate it in the brackets to obtain\n",
    "$e_{n+1} = e_n - \\dfrac{1}{f'(x_n)}[- f'(x_n)(r-x_n)-\\dfrac{1}{2}f''(\\xi_n)(x_n-r)^2] = e_n + \\dfrac{1}{f'(x_n)}[ f'(x_n)(r-x_n)+\\dfrac{1}{2}f''(\\xi_n)(x_n-r)^2]$ Since $r-x_n$ is $-e_r$\n",
    "$e_{n+1} = e_n - \\dfrac{1}{f'(x_n)}[- f'(x_n)e_n+\\dfrac{1}{2}f''(\\xi_n)(x_n-r)^2] = e_n - e_n + \\dfrac{f''(\\xi_n)}{2f'(x_n)}e_n^2 = \\boxed{\\dfrac{f''(\\xi_n)}{2f'(x_n)}e_n^2}$"
   ]
  },
  {
   "cell_type": "markdown",
   "metadata": {},
   "source": [
    "The order of convergence is defined by: $\\lim_{n\\to\\infty} \\dfrac{|e_{n+1}|}{|e_n|^{\\alpha}} = \\lambda$ where $x_n \\neq r$ $\\forall n$ and $\\alpha$ is the order and $\\lambda$ is the asymptotic error constant. We can use the anwer we have above to determine $\\alpha$ and $\\lambda$ as  follows:"
   ]
  },
  {
   "cell_type": "markdown",
   "metadata": {},
   "source": [
    "$e_{n+1} = \\dfrac{f''(\\xi_n)}{2f'(x_n)}e_n^2 \\implies \\dfrac{e_{n+1}}{e_n^2} = \\dfrac{f''(\\xi_n)}{2f'(x_n)} \\implies \\dfrac{|e_{n+1}|}{|e_n|^2} = \\dfrac{|f''(\\xi_n)|}{|2f'(x_n)|} \\implies \\lim_{n\\to\\infty} \\dfrac{|e_{n+1}|}{|e_n|^2} = \\lim_{n\\to\\infty} \\dfrac{|f''(\\xi_n)|}{|2f'(x_n)|} = \\dfrac{|f''(r)|}{|2f'(r)|}$. Hence we can conclude that $\\boxed{\\alpha = 2}$ and $\\lambda = \\dfrac{|f''(r)|}{|2f'(r)|}$. Thus in the context of this problem with $f'(x) = 1 + 4x^3$, $f''(x) = 12x^2$, and $r=0$, we have $f'(r) = f'(0) = 1 + 4(0)^3 = 1$ and $f''(r) = f''(0) = 12(0)^2 = 0$. Hence $\\lambda = \\dfrac{|0|}{|2*1|} = \\dfrac{|0|}{|2|} = 0$.  $\\boxed{\\lambda = 0}$"
   ]
  },
  {
   "cell_type": "markdown",
   "metadata": {},
   "source": [
    "(b) Implement the Newton iteration. Observe and report how the error decreases over\n",
    "iterations for different initial guesses $x_0 = 0.1, 1, 10$. Is it consistent with you predictions?"
   ]
  },
  {
   "cell_type": "code",
   "execution_count": 21,
   "metadata": {},
   "outputs": [],
   "source": [
    "import math\n",
    "import numpy as np\n",
    "from sympy import *\n",
    "def NewtonsIteration(x0, Tol, N0): #Tol = tolerence, N0 = iterations\n",
    "    r = 0 #root\n",
    "    e = x0 - r #error\n",
    "    x = symbols('x') # x\n",
    "    f = x + x**4 #function\n",
    "    df = f.diff(x) #f'(x)\n",
    "    p0 = x0\n",
    "    i = 1\n",
    "    prev_e = e; #previous error\n",
    "    while i <= N0:\n",
    "        p = p0 - f.evalf(subs = {x:p0})/df.evalf(subs = {x:p0})\n",
    "        if np.abs(p - p0) <= Tol:\n",
    "            print(\"p = \" +str(p) + \" after \" + str(i) + \" iterations.\")\n",
    "            break\n",
    "        prev_e = e\n",
    "        p0 = p\n",
    "        e = p0 - r\n",
    "        print(\"error \" + str(i)+ \": \" + str(e))\n",
    "        i += 1\n",
    "        if(i >= 2):\n",
    "            print(\"order of convergence 2 for n = \" + str(i-1)+ \" \" + str(e/(prev_e**2)))\n",
    "    if i > N0:\n",
    "        print(\"Method failed after \" + str(N0) + \" iterations\")"
   ]
  },
  {
   "cell_type": "code",
   "execution_count": 22,
   "metadata": {},
   "outputs": [
    {
     "name": "stdout",
     "output_type": "stream",
     "text": [
      "error 1: 0.000298804780876488\n",
      "order of convergence 2 for n = 1 0.0298804780876488\n",
      "error 2: 2.39150062600335e-14\n",
      "order of convergence 2 for n = 2 2.67852321669054e-7\n",
      "p = 0 after 3 iterations.\n"
     ]
    }
   ],
   "source": [
    "NewtonsIteration(0.1, 10**(-7), 10)"
   ]
  },
  {
   "cell_type": "code",
   "execution_count": 23,
   "metadata": {},
   "outputs": [
    {
     "name": "stdout",
     "output_type": "stream",
     "text": [
      "error 1: 0.600000000000000\n",
      "order of convergence 2 for n = 1 0.600000000000000\n",
      "error 2: 0.208583690987124\n",
      "order of convergence 2 for n = 2 0.579399141630901\n",
      "error 3: 0.00547970709979453\n",
      "order of convergence 2 for n = 3 0.125949558307823\n",
      "error 4: 2.70489461905166e-9\n",
      "order of convergence 2 for n = 4 9.00815103944581e-5\n",
      "p = 0 after 5 iterations.\n"
     ]
    }
   ],
   "source": [
    "NewtonsIteration(1, 10**(-7), 10)"
   ]
  },
  {
   "cell_type": "code",
   "execution_count": 24,
   "metadata": {},
   "outputs": [
    {
     "name": "stdout",
     "output_type": "stream",
     "text": [
      "error 1: 7.49812546863284\n",
      "order of convergence 2 for n = 1 0.0749812546863284\n",
      "error 2: 5.62026107787311\n",
      "order of convergence 2 for n = 2 0.0999657166165042\n",
      "error 3: 4.20926823228908\n",
      "order of convergence 2 for n = 3 0.133258101318045\n",
      "error 4: 3.14640403462721\n",
      "order of convergence 2 for n = 4 0.177582958464125\n",
      "error 5: 2.34101415957187\n",
      "order of convergence 2 for n = 5 0.236469460169635\n",
      "error 6: 1.72220140219775\n",
      "order of convergence 2 for n = 6 0.314250413230143\n",
      "error 7: 1.23138376797973\n",
      "order of convergence 2 for n = 7 0.415169601762726\n",
      "error 8: 0.814483693089217\n",
      "order of convergence 2 for n = 8 0.537149956314889\n",
      "error 9: 0.417628863311162\n",
      "order of convergence 2 for n = 9 0.629543463203442\n",
      "error 10: 0.0706700815623652\n",
      "order of convergence 2 for n = 10 0.405186139079729\n",
      "error 11: 7.47224201129576e-5\n",
      "order of convergence 2 for n = 11 0.0149616587259972\n",
      "error 12: 9.35259899040308e-17\n",
      "order of convergence 2 for n = 12 1.67506033507551e-8\n",
      "p = 0 after 13 iterations.\n"
     ]
    }
   ],
   "source": [
    "NewtonsIteration(10, 10**(-7), 100)"
   ]
  },
  {
   "cell_type": "markdown",
   "metadata": {},
   "source": [
    "Based on the results above, the error does decrease over all iterations and converges to 0 (the right answer). For $x_0 = 0.1,1,10$  with an order of convergence $\\alpha = 2$, it appears that $\\lim_{n\\to\\infty} \\dfrac{|e_{n+1}|}{|e_n|^{\\alpha}} = \\lambda = 0$, thus it is consistent with my prediction. However, the convergence towards the asymptotic constant is faster and more noticible for $x_0 = 0.1,1$ than for $x_0 = 10$ as the former decreased after each iteration while the latter sometimes increased. "
   ]
  },
  {
   "cell_type": "code",
   "execution_count": null,
   "metadata": {},
   "outputs": [],
   "source": []
  }
 ],
 "metadata": {
  "kernelspec": {
   "display_name": "Python 3",
   "language": "python",
   "name": "python3"
  },
  "language_info": {
   "codemirror_mode": {
    "name": "ipython",
    "version": 3
   },
   "file_extension": ".py",
   "mimetype": "text/x-python",
   "name": "python",
   "nbconvert_exporter": "python",
   "pygments_lexer": "ipython3",
   "version": "3.8.3"
  }
 },
 "nbformat": 4,
 "nbformat_minor": 4
}
