{
 "cells": [
  {
   "cell_type": "markdown",
   "metadata": {},
   "source": [
    "Code for 5.6.14"
   ]
  },
  {
   "cell_type": "code",
   "execution_count": 58,
   "metadata": {},
   "outputs": [],
   "source": [
    "import math\n",
    "import numpy as np\n",
    "from sympy import *\n",
    "from scipy.integrate import quad\n",
    "import scipy.special as special\n",
    "from sympy.plotting import plot\n",
    "\n",
    "def f(t,y):\n",
    "    return 0.0439*math.log(12000/y)*y\n",
    "\n",
    "def Adam_Fourth_Order_Predictor_Corrector(h, a, alpha, target):\n",
    "    t = [a]\n",
    "    w = [alpha]\n",
    "    K = [0,0,0,0]\n",
    "    for i in range(1,4):\n",
    "        K[0] = h*f(t[i - 1], w[i - 1])\n",
    "        K[1] = h*f(t[i - 1] +h/2, w[i - 1] + K[0]/2)\n",
    "        K[2] = h*f(t[i - 1] +h/2, w[i - 1] + K[1]/2)\n",
    "        K[3] = h*f(t[i - 1] +h, w[i - 1] + K[2])\n",
    "        w.append(w[i-1] + (K[0] + 2*K[1] + 2*K[2] + K[3])/6) \n",
    "        t.append(a + i*h)\n",
    "        print(K)\n",
    "    \n",
    "    print(w)\n",
    "    i = 4\n",
    "    while (w[3] < target):\n",
    "        time = a + i*h\n",
    "        t3w3 = f(t[3],w[3])\n",
    "        t2w2 = f(t[2],w[2])\n",
    "        t1w1 = f(t[1],w[1])\n",
    "        temp = w[3] + (h/24)*(55*t3w3 - 59*t2w2 + 37*t1w1 - 9*f(t[0],w[0]))\n",
    "        temp = w[3] + (h/24)*(9*f(time,temp) + 19*t3w3 - 5*t2w2 + t1w1)\n",
    "        for j in range(3):\n",
    "            t[j] = t[j + 1]\n",
    "            w[j] = w[j + 1]\n",
    "        t[3] = time\n",
    "        w[3] = temp\n",
    "        i += 1\n",
    "    return t[3]"
   ]
  },
  {
   "cell_type": "code",
   "execution_count": 59,
   "metadata": {},
   "outputs": [
    {
     "name": "stdout",
     "output_type": "stream",
     "text": [
      "[96.45815894506005, 96.5561961171459, 96.55628931778065, 96.64178194720265]\n",
      "[96.64177843982728, 96.71484170142273, 96.71489224292509, 96.7756222620943]\n",
      "[96.77561991326102, 96.82413601689669, 96.82415728901361, 96.8605660013819]\n",
      "[4000, 4096.554151960353, 4193.266963392122, 4290.0890921465325]\n"
     ]
    },
    {
     "data": {
      "text/plain": [
       "58.0"
      ]
     },
     "execution_count": 59,
     "metadata": {},
     "output_type": "execute_result"
    }
   ],
   "source": [
    "Adam_Fourth_Order_Predictor_Corrector(0.5, 0, 4000, 11000)"
   ]
  },
  {
   "cell_type": "markdown",
   "metadata": {},
   "source": [
    "# AMSC 460 HW 6 Part 2"
   ]
  },
  {
   "cell_type": "markdown",
   "metadata": {},
   "source": [
    "Consider the following IVP:\n",
    "$$\n",
    "y^{\\prime}(t)=2 t y(t)^{2}, \\quad y(0)=1\n",
    "$$\n",
    "The exact solution of this problem is $y(t)=1 /\\left(1-t^{2}\\right)$ and, clearly, it explodes at $t=1$ even though $f(t, y)=2 t y^{2}$ is continuous in both variables and satisfies the Lipschitz condition for $y$ in any bounded interval $(c, d)$. This example shows that typically one expects only local-in-time existence of IVP solutions."
   ]
  },
  {
   "cell_type": "markdown",
   "metadata": {},
   "source": [
    "- Set $a=0.9999$ and solve the IVP above on the domain $[0, a]$ by any first order method with step sizes $a / 10^{k}, k=3,4,5$. Report the absolute error at the time $t=a$ for different $k$."
   ]
  },
  {
   "cell_type": "markdown",
   "metadata": {},
   "source": [
    "We can use Euler's method"
   ]
  },
  {
   "cell_type": "code",
   "execution_count": 89,
   "metadata": {},
   "outputs": [],
   "source": [
    "def f(t,y):\n",
    "    return 2*t*y**2\n",
    "\n",
    "def y(t):\n",
    "    return 1/(1 - t**2)\n",
    "    \n",
    "def Euler_Method(a,k):\n",
    "    n = 10**k\n",
    "    h = a/n\n",
    "    t = 0\n",
    "    w = 1\n",
    "    for i in range(1, n + 1):\n",
    "        w = w + h*f(t,w)\n",
    "        t = i*h\n",
    "    return w\n"
   ]
  },
  {
   "cell_type": "code",
   "execution_count": 90,
   "metadata": {},
   "outputs": [
    {
     "data": {
      "text/plain": [
       "4891.492319076559"
      ]
     },
     "execution_count": 90,
     "metadata": {},
     "output_type": "execute_result"
    }
   ],
   "source": [
    "y(0.9999) - Euler_Method(0.9999,3)"
   ]
  },
  {
   "cell_type": "code",
   "execution_count": 91,
   "metadata": {},
   "outputs": [
    {
     "data": {
      "text/plain": [
       "4319.866942896124"
      ]
     },
     "execution_count": 91,
     "metadata": {},
     "output_type": "execute_result"
    }
   ],
   "source": [
    "y(0.9999) - Euler_Method(0.9999,4)"
   ]
  },
  {
   "cell_type": "code",
   "execution_count": 92,
   "metadata": {},
   "outputs": [
    {
     "data": {
      "text/plain": [
       "2191.1098275180993"
      ]
     },
     "execution_count": 92,
     "metadata": {},
     "output_type": "execute_result"
    }
   ],
   "source": [
    "y(0.9999) - Euler_Method(0.9999,5)"
   ]
  },
  {
   "cell_type": "markdown",
   "metadata": {},
   "source": [
    "The error is quite high but shrinks drastically as k increases"
   ]
  },
  {
   "cell_type": "markdown",
   "metadata": {},
   "source": [
    "- Repeat the previous part using any second order method."
   ]
  },
  {
   "cell_type": "markdown",
   "metadata": {},
   "source": [
    "We can use the Modified Euler's Method"
   ]
  },
  {
   "cell_type": "code",
   "execution_count": 85,
   "metadata": {},
   "outputs": [],
   "source": [
    "def Modified_Euler_Method(a,k):\n",
    "    n = 10**k\n",
    "    h = a/n\n",
    "    t = 0\n",
    "    w = 1\n",
    "    for i in range(n):\n",
    "        temp = f(t,w)\n",
    "        w = w + (h/2)*(temp + f(t+h, w + h*temp))\n",
    "        t = i*h\n",
    "    return w"
   ]
  },
  {
   "cell_type": "code",
   "execution_count": 86,
   "metadata": {},
   "outputs": [
    {
     "data": {
      "text/plain": [
       "4630.69429888907"
      ]
     },
     "execution_count": 86,
     "metadata": {},
     "output_type": "execute_result"
    }
   ],
   "source": [
    "y(0.9999) - Modified_Euler_Method(0.9999,3)"
   ]
  },
  {
   "cell_type": "code",
   "execution_count": 87,
   "metadata": {},
   "outputs": [
    {
     "data": {
      "text/plain": [
       "2707.958450564152"
      ]
     },
     "execution_count": 87,
     "metadata": {},
     "output_type": "execute_result"
    }
   ],
   "source": [
    "y(0.9999) - Modified_Euler_Method(0.9999,4)"
   ]
  },
  {
   "cell_type": "code",
   "execution_count": 88,
   "metadata": {},
   "outputs": [
    {
     "data": {
      "text/plain": [
       "472.26252222436415"
      ]
     },
     "execution_count": 88,
     "metadata": {},
     "output_type": "execute_result"
    }
   ],
   "source": [
    "y(0.9999) - Modified_Euler_Method(0.9999,5)"
   ]
  },
  {
   "cell_type": "markdown",
   "metadata": {},
   "source": [
    "- Do you observe the expected order of convergence of errors for each method?"
   ]
  },
  {
   "cell_type": "markdown",
   "metadata": {},
   "source": [
    "Yes, firstly, it is quite obvious that the 2nd order method converges faster than the first order method."
   ]
  },
  {
   "cell_type": "markdown",
   "metadata": {},
   "source": [
    "$$\n",
    "\\begin{aligned}\n",
    "\\left|f(t, y_1) -  f(t, y_2)\\right| & = \\left| 2 t y_1^{2} - 2 t y_2^{2} \\right|\n",
    "\\end{aligned}\n",
    "$$\n"
   ]
  }
 ],
 "metadata": {
  "kernelspec": {
   "display_name": "Python 3",
   "language": "python",
   "name": "python3"
  },
  "language_info": {
   "codemirror_mode": {
    "name": "ipython",
    "version": 3
   },
   "file_extension": ".py",
   "mimetype": "text/x-python",
   "name": "python",
   "nbconvert_exporter": "python",
   "pygments_lexer": "ipython3",
   "version": "3.8.3"
  }
 },
 "nbformat": 4,
 "nbformat_minor": 4
}
